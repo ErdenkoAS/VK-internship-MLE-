{
  "nbformat": 4,
  "nbformat_minor": 0,
  "metadata": {
    "colab": {
      "provenance": []
    },
    "kernelspec": {
      "name": "python3",
      "display_name": "Python 3"
    },
    "language_info": {
      "name": "python"
    }
  },
  "cells": [
    {
      "cell_type": "markdown",
      "source": [
        "##Загрузка и подготовка датасета"
      ],
      "metadata": {
        "id": "6suRUAYXiV0T"
      }
    },
    {
      "cell_type": "code",
      "execution_count": 14,
      "metadata": {
        "id": "GohCE5zOfgmY"
      },
      "outputs": [],
      "source": [
        "import pandas as pd\n",
        "import numpy as np\n",
        "import matplotlib.pyplot as plt\n",
        "%matplotlib inline"
      ]
    },
    {
      "cell_type": "code",
      "source": [
        "data = pd.read_csv('intern_task.csv')"
      ],
      "metadata": {
        "id": "6TpZjI01fwjQ"
      },
      "execution_count": 15,
      "outputs": []
    },
    {
      "cell_type": "code",
      "source": [
        "data"
      ],
      "metadata": {
        "colab": {
          "base_uri": "https://localhost:8080/",
          "height": 431
        },
        "id": "xF3sYOv7f2Am",
        "outputId": "b490ce9d-cba7-4f57-e53d-022bbe67c1aa"
      },
      "execution_count": 21,
      "outputs": [
        {
          "output_type": "execute_result",
          "data": {
            "text/plain": [
              "       rank  query_id  feature_0  feature_1  feature_2  feature_3  feature_4  \\\n",
              "0         0        10        1.0        0.0        1.0        3.0        3.0   \n",
              "1         1        10        3.0        0.0        3.0        0.0        3.0   \n",
              "2         0        10        3.0        0.0        2.0        0.0        3.0   \n",
              "3         1        10        3.0        0.0        3.0        0.0        3.0   \n",
              "4         2        10        3.0        0.0        3.0        1.0        3.0   \n",
              "...     ...       ...        ...        ...        ...        ...        ...   \n",
              "77591     0     10255        1.0        0.0        1.0        0.0        1.0   \n",
              "77592     0     10255        0.0        0.0        0.0        0.0        0.0   \n",
              "77593     0     10255        2.0        0.0        0.0        1.0        2.0   \n",
              "77594     0     10255        2.0        1.0        1.0        1.0        2.0   \n",
              "77595     0     10255        2.0        0.0        0.0        0.0        2.0   \n",
              "\n",
              "       feature_5  feature_6  feature_7  ...  feature_134  feature_135  \\\n",
              "0       0.333333        0.0   0.333333  ...          0.0     0.000000   \n",
              "1       1.000000        0.0   1.000000  ...          0.0     0.000000   \n",
              "2       1.000000        0.0   0.666667  ...          0.0     0.000000   \n",
              "3       1.000000        0.0   1.000000  ...          0.0     0.000000   \n",
              "4       1.000000        0.0   1.000000  ...        273.0    79.670665   \n",
              "...          ...        ...        ...  ...          ...          ...   \n",
              "77591   0.500000        0.0   0.500000  ...          0.0     0.000000   \n",
              "77592   0.000000        0.0   0.000000  ...          0.0     0.000000   \n",
              "77593   1.000000        0.0   0.000000  ...          0.0     0.000000   \n",
              "77594   1.000000        0.5   0.500000  ...          0.0     0.000000   \n",
              "77595   1.000000        0.0   0.000000  ...          NaN          NaN   \n",
              "\n",
              "       feature_136  feature_137  feature_138  feature_139  feature_140  \\\n",
              "0         0.454545     0.890238     8.655534     1.000000     0.077778   \n",
              "1         0.000000     0.773976    23.130514     0.000000     0.027826   \n",
              "2         0.000000     0.918308    13.351339     0.000000     0.014925   \n",
              "3         0.000000     0.975355    18.240926     0.000000     0.053140   \n",
              "4         0.200000     0.990119    31.786048     0.333333     0.046512   \n",
              "...            ...          ...          ...          ...          ...   \n",
              "77591     0.000000     0.741386     8.263340     0.000000     0.010460   \n",
              "77592     0.000000     0.000000     0.000000     0.000000     0.000000   \n",
              "77593     0.111111     0.929144     0.000000     0.500000     0.015184   \n",
              "77594     0.166667     0.952131     8.263340     0.500000     0.012563   \n",
              "77595          NaN          NaN          NaN          NaN          NaN   \n",
              "\n",
              "       feature_141  feature_142  feature_143  \n",
              "0         0.002222          1.0     0.333333  \n",
              "1         0.000430         44.0    14.666667  \n",
              "2         0.000104         22.0     7.333333  \n",
              "3         0.000255          8.0     2.666667  \n",
              "4         0.000307         24.0     8.000000  \n",
              "...            ...          ...          ...  \n",
              "77591     0.000083          4.0     2.000000  \n",
              "77592     0.000000          0.0     0.000000  \n",
              "77593     0.000031         13.0     6.500000  \n",
              "77594     0.000012         12.0     6.000000  \n",
              "77595          NaN          NaN          NaN  \n",
              "\n",
              "[77596 rows x 146 columns]"
            ],
            "text/html": [
              "\n",
              "  <div id=\"df-71da5712-9aa7-4416-bb50-cd80b1550723\" class=\"colab-df-container\">\n",
              "    <div>\n",
              "<style scoped>\n",
              "    .dataframe tbody tr th:only-of-type {\n",
              "        vertical-align: middle;\n",
              "    }\n",
              "\n",
              "    .dataframe tbody tr th {\n",
              "        vertical-align: top;\n",
              "    }\n",
              "\n",
              "    .dataframe thead th {\n",
              "        text-align: right;\n",
              "    }\n",
              "</style>\n",
              "<table border=\"1\" class=\"dataframe\">\n",
              "  <thead>\n",
              "    <tr style=\"text-align: right;\">\n",
              "      <th></th>\n",
              "      <th>rank</th>\n",
              "      <th>query_id</th>\n",
              "      <th>feature_0</th>\n",
              "      <th>feature_1</th>\n",
              "      <th>feature_2</th>\n",
              "      <th>feature_3</th>\n",
              "      <th>feature_4</th>\n",
              "      <th>feature_5</th>\n",
              "      <th>feature_6</th>\n",
              "      <th>feature_7</th>\n",
              "      <th>...</th>\n",
              "      <th>feature_134</th>\n",
              "      <th>feature_135</th>\n",
              "      <th>feature_136</th>\n",
              "      <th>feature_137</th>\n",
              "      <th>feature_138</th>\n",
              "      <th>feature_139</th>\n",
              "      <th>feature_140</th>\n",
              "      <th>feature_141</th>\n",
              "      <th>feature_142</th>\n",
              "      <th>feature_143</th>\n",
              "    </tr>\n",
              "  </thead>\n",
              "  <tbody>\n",
              "    <tr>\n",
              "      <th>0</th>\n",
              "      <td>0</td>\n",
              "      <td>10</td>\n",
              "      <td>1.0</td>\n",
              "      <td>0.0</td>\n",
              "      <td>1.0</td>\n",
              "      <td>3.0</td>\n",
              "      <td>3.0</td>\n",
              "      <td>0.333333</td>\n",
              "      <td>0.0</td>\n",
              "      <td>0.333333</td>\n",
              "      <td>...</td>\n",
              "      <td>0.0</td>\n",
              "      <td>0.000000</td>\n",
              "      <td>0.454545</td>\n",
              "      <td>0.890238</td>\n",
              "      <td>8.655534</td>\n",
              "      <td>1.000000</td>\n",
              "      <td>0.077778</td>\n",
              "      <td>0.002222</td>\n",
              "      <td>1.0</td>\n",
              "      <td>0.333333</td>\n",
              "    </tr>\n",
              "    <tr>\n",
              "      <th>1</th>\n",
              "      <td>1</td>\n",
              "      <td>10</td>\n",
              "      <td>3.0</td>\n",
              "      <td>0.0</td>\n",
              "      <td>3.0</td>\n",
              "      <td>0.0</td>\n",
              "      <td>3.0</td>\n",
              "      <td>1.000000</td>\n",
              "      <td>0.0</td>\n",
              "      <td>1.000000</td>\n",
              "      <td>...</td>\n",
              "      <td>0.0</td>\n",
              "      <td>0.000000</td>\n",
              "      <td>0.000000</td>\n",
              "      <td>0.773976</td>\n",
              "      <td>23.130514</td>\n",
              "      <td>0.000000</td>\n",
              "      <td>0.027826</td>\n",
              "      <td>0.000430</td>\n",
              "      <td>44.0</td>\n",
              "      <td>14.666667</td>\n",
              "    </tr>\n",
              "    <tr>\n",
              "      <th>2</th>\n",
              "      <td>0</td>\n",
              "      <td>10</td>\n",
              "      <td>3.0</td>\n",
              "      <td>0.0</td>\n",
              "      <td>2.0</td>\n",
              "      <td>0.0</td>\n",
              "      <td>3.0</td>\n",
              "      <td>1.000000</td>\n",
              "      <td>0.0</td>\n",
              "      <td>0.666667</td>\n",
              "      <td>...</td>\n",
              "      <td>0.0</td>\n",
              "      <td>0.000000</td>\n",
              "      <td>0.000000</td>\n",
              "      <td>0.918308</td>\n",
              "      <td>13.351339</td>\n",
              "      <td>0.000000</td>\n",
              "      <td>0.014925</td>\n",
              "      <td>0.000104</td>\n",
              "      <td>22.0</td>\n",
              "      <td>7.333333</td>\n",
              "    </tr>\n",
              "    <tr>\n",
              "      <th>3</th>\n",
              "      <td>1</td>\n",
              "      <td>10</td>\n",
              "      <td>3.0</td>\n",
              "      <td>0.0</td>\n",
              "      <td>3.0</td>\n",
              "      <td>0.0</td>\n",
              "      <td>3.0</td>\n",
              "      <td>1.000000</td>\n",
              "      <td>0.0</td>\n",
              "      <td>1.000000</td>\n",
              "      <td>...</td>\n",
              "      <td>0.0</td>\n",
              "      <td>0.000000</td>\n",
              "      <td>0.000000</td>\n",
              "      <td>0.975355</td>\n",
              "      <td>18.240926</td>\n",
              "      <td>0.000000</td>\n",
              "      <td>0.053140</td>\n",
              "      <td>0.000255</td>\n",
              "      <td>8.0</td>\n",
              "      <td>2.666667</td>\n",
              "    </tr>\n",
              "    <tr>\n",
              "      <th>4</th>\n",
              "      <td>2</td>\n",
              "      <td>10</td>\n",
              "      <td>3.0</td>\n",
              "      <td>0.0</td>\n",
              "      <td>3.0</td>\n",
              "      <td>1.0</td>\n",
              "      <td>3.0</td>\n",
              "      <td>1.000000</td>\n",
              "      <td>0.0</td>\n",
              "      <td>1.000000</td>\n",
              "      <td>...</td>\n",
              "      <td>273.0</td>\n",
              "      <td>79.670665</td>\n",
              "      <td>0.200000</td>\n",
              "      <td>0.990119</td>\n",
              "      <td>31.786048</td>\n",
              "      <td>0.333333</td>\n",
              "      <td>0.046512</td>\n",
              "      <td>0.000307</td>\n",
              "      <td>24.0</td>\n",
              "      <td>8.000000</td>\n",
              "    </tr>\n",
              "    <tr>\n",
              "      <th>...</th>\n",
              "      <td>...</td>\n",
              "      <td>...</td>\n",
              "      <td>...</td>\n",
              "      <td>...</td>\n",
              "      <td>...</td>\n",
              "      <td>...</td>\n",
              "      <td>...</td>\n",
              "      <td>...</td>\n",
              "      <td>...</td>\n",
              "      <td>...</td>\n",
              "      <td>...</td>\n",
              "      <td>...</td>\n",
              "      <td>...</td>\n",
              "      <td>...</td>\n",
              "      <td>...</td>\n",
              "      <td>...</td>\n",
              "      <td>...</td>\n",
              "      <td>...</td>\n",
              "      <td>...</td>\n",
              "      <td>...</td>\n",
              "      <td>...</td>\n",
              "    </tr>\n",
              "    <tr>\n",
              "      <th>77591</th>\n",
              "      <td>0</td>\n",
              "      <td>10255</td>\n",
              "      <td>1.0</td>\n",
              "      <td>0.0</td>\n",
              "      <td>1.0</td>\n",
              "      <td>0.0</td>\n",
              "      <td>1.0</td>\n",
              "      <td>0.500000</td>\n",
              "      <td>0.0</td>\n",
              "      <td>0.500000</td>\n",
              "      <td>...</td>\n",
              "      <td>0.0</td>\n",
              "      <td>0.000000</td>\n",
              "      <td>0.000000</td>\n",
              "      <td>0.741386</td>\n",
              "      <td>8.263340</td>\n",
              "      <td>0.000000</td>\n",
              "      <td>0.010460</td>\n",
              "      <td>0.000083</td>\n",
              "      <td>4.0</td>\n",
              "      <td>2.000000</td>\n",
              "    </tr>\n",
              "    <tr>\n",
              "      <th>77592</th>\n",
              "      <td>0</td>\n",
              "      <td>10255</td>\n",
              "      <td>0.0</td>\n",
              "      <td>0.0</td>\n",
              "      <td>0.0</td>\n",
              "      <td>0.0</td>\n",
              "      <td>0.0</td>\n",
              "      <td>0.000000</td>\n",
              "      <td>0.0</td>\n",
              "      <td>0.000000</td>\n",
              "      <td>...</td>\n",
              "      <td>0.0</td>\n",
              "      <td>0.000000</td>\n",
              "      <td>0.000000</td>\n",
              "      <td>0.000000</td>\n",
              "      <td>0.000000</td>\n",
              "      <td>0.000000</td>\n",
              "      <td>0.000000</td>\n",
              "      <td>0.000000</td>\n",
              "      <td>0.0</td>\n",
              "      <td>0.000000</td>\n",
              "    </tr>\n",
              "    <tr>\n",
              "      <th>77593</th>\n",
              "      <td>0</td>\n",
              "      <td>10255</td>\n",
              "      <td>2.0</td>\n",
              "      <td>0.0</td>\n",
              "      <td>0.0</td>\n",
              "      <td>1.0</td>\n",
              "      <td>2.0</td>\n",
              "      <td>1.000000</td>\n",
              "      <td>0.0</td>\n",
              "      <td>0.000000</td>\n",
              "      <td>...</td>\n",
              "      <td>0.0</td>\n",
              "      <td>0.000000</td>\n",
              "      <td>0.111111</td>\n",
              "      <td>0.929144</td>\n",
              "      <td>0.000000</td>\n",
              "      <td>0.500000</td>\n",
              "      <td>0.015184</td>\n",
              "      <td>0.000031</td>\n",
              "      <td>13.0</td>\n",
              "      <td>6.500000</td>\n",
              "    </tr>\n",
              "    <tr>\n",
              "      <th>77594</th>\n",
              "      <td>0</td>\n",
              "      <td>10255</td>\n",
              "      <td>2.0</td>\n",
              "      <td>1.0</td>\n",
              "      <td>1.0</td>\n",
              "      <td>1.0</td>\n",
              "      <td>2.0</td>\n",
              "      <td>1.000000</td>\n",
              "      <td>0.5</td>\n",
              "      <td>0.500000</td>\n",
              "      <td>...</td>\n",
              "      <td>0.0</td>\n",
              "      <td>0.000000</td>\n",
              "      <td>0.166667</td>\n",
              "      <td>0.952131</td>\n",
              "      <td>8.263340</td>\n",
              "      <td>0.500000</td>\n",
              "      <td>0.012563</td>\n",
              "      <td>0.000012</td>\n",
              "      <td>12.0</td>\n",
              "      <td>6.000000</td>\n",
              "    </tr>\n",
              "    <tr>\n",
              "      <th>77595</th>\n",
              "      <td>0</td>\n",
              "      <td>10255</td>\n",
              "      <td>2.0</td>\n",
              "      <td>0.0</td>\n",
              "      <td>0.0</td>\n",
              "      <td>0.0</td>\n",
              "      <td>2.0</td>\n",
              "      <td>1.000000</td>\n",
              "      <td>0.0</td>\n",
              "      <td>0.000000</td>\n",
              "      <td>...</td>\n",
              "      <td>NaN</td>\n",
              "      <td>NaN</td>\n",
              "      <td>NaN</td>\n",
              "      <td>NaN</td>\n",
              "      <td>NaN</td>\n",
              "      <td>NaN</td>\n",
              "      <td>NaN</td>\n",
              "      <td>NaN</td>\n",
              "      <td>NaN</td>\n",
              "      <td>NaN</td>\n",
              "    </tr>\n",
              "  </tbody>\n",
              "</table>\n",
              "<p>77596 rows × 146 columns</p>\n",
              "</div>\n",
              "    <div class=\"colab-df-buttons\">\n",
              "\n",
              "  <div class=\"colab-df-container\">\n",
              "    <button class=\"colab-df-convert\" onclick=\"convertToInteractive('df-71da5712-9aa7-4416-bb50-cd80b1550723')\"\n",
              "            title=\"Convert this dataframe to an interactive table.\"\n",
              "            style=\"display:none;\">\n",
              "\n",
              "  <svg xmlns=\"http://www.w3.org/2000/svg\" height=\"24px\" viewBox=\"0 -960 960 960\">\n",
              "    <path d=\"M120-120v-720h720v720H120Zm60-500h600v-160H180v160Zm220 220h160v-160H400v160Zm0 220h160v-160H400v160ZM180-400h160v-160H180v160Zm440 0h160v-160H620v160ZM180-180h160v-160H180v160Zm440 0h160v-160H620v160Z\"/>\n",
              "  </svg>\n",
              "    </button>\n",
              "\n",
              "  <style>\n",
              "    .colab-df-container {\n",
              "      display:flex;\n",
              "      gap: 12px;\n",
              "    }\n",
              "\n",
              "    .colab-df-convert {\n",
              "      background-color: #E8F0FE;\n",
              "      border: none;\n",
              "      border-radius: 50%;\n",
              "      cursor: pointer;\n",
              "      display: none;\n",
              "      fill: #1967D2;\n",
              "      height: 32px;\n",
              "      padding: 0 0 0 0;\n",
              "      width: 32px;\n",
              "    }\n",
              "\n",
              "    .colab-df-convert:hover {\n",
              "      background-color: #E2EBFA;\n",
              "      box-shadow: 0px 1px 2px rgba(60, 64, 67, 0.3), 0px 1px 3px 1px rgba(60, 64, 67, 0.15);\n",
              "      fill: #174EA6;\n",
              "    }\n",
              "\n",
              "    .colab-df-buttons div {\n",
              "      margin-bottom: 4px;\n",
              "    }\n",
              "\n",
              "    [theme=dark] .colab-df-convert {\n",
              "      background-color: #3B4455;\n",
              "      fill: #D2E3FC;\n",
              "    }\n",
              "\n",
              "    [theme=dark] .colab-df-convert:hover {\n",
              "      background-color: #434B5C;\n",
              "      box-shadow: 0px 1px 3px 1px rgba(0, 0, 0, 0.15);\n",
              "      filter: drop-shadow(0px 1px 2px rgba(0, 0, 0, 0.3));\n",
              "      fill: #FFFFFF;\n",
              "    }\n",
              "  </style>\n",
              "\n",
              "    <script>\n",
              "      const buttonEl =\n",
              "        document.querySelector('#df-71da5712-9aa7-4416-bb50-cd80b1550723 button.colab-df-convert');\n",
              "      buttonEl.style.display =\n",
              "        google.colab.kernel.accessAllowed ? 'block' : 'none';\n",
              "\n",
              "      async function convertToInteractive(key) {\n",
              "        const element = document.querySelector('#df-71da5712-9aa7-4416-bb50-cd80b1550723');\n",
              "        const dataTable =\n",
              "          await google.colab.kernel.invokeFunction('convertToInteractive',\n",
              "                                                    [key], {});\n",
              "        if (!dataTable) return;\n",
              "\n",
              "        const docLinkHtml = 'Like what you see? Visit the ' +\n",
              "          '<a target=\"_blank\" href=https://colab.research.google.com/notebooks/data_table.ipynb>data table notebook</a>'\n",
              "          + ' to learn more about interactive tables.';\n",
              "        element.innerHTML = '';\n",
              "        dataTable['output_type'] = 'display_data';\n",
              "        await google.colab.output.renderOutput(dataTable, element);\n",
              "        const docLink = document.createElement('div');\n",
              "        docLink.innerHTML = docLinkHtml;\n",
              "        element.appendChild(docLink);\n",
              "      }\n",
              "    </script>\n",
              "  </div>\n",
              "\n",
              "\n",
              "<div id=\"df-4649f0e9-87d3-4741-bf3e-b46c4513ea15\">\n",
              "  <button class=\"colab-df-quickchart\" onclick=\"quickchart('df-4649f0e9-87d3-4741-bf3e-b46c4513ea15')\"\n",
              "            title=\"Suggest charts\"\n",
              "            style=\"display:none;\">\n",
              "\n",
              "<svg xmlns=\"http://www.w3.org/2000/svg\" height=\"24px\"viewBox=\"0 0 24 24\"\n",
              "     width=\"24px\">\n",
              "    <g>\n",
              "        <path d=\"M19 3H5c-1.1 0-2 .9-2 2v14c0 1.1.9 2 2 2h14c1.1 0 2-.9 2-2V5c0-1.1-.9-2-2-2zM9 17H7v-7h2v7zm4 0h-2V7h2v10zm4 0h-2v-4h2v4z\"/>\n",
              "    </g>\n",
              "</svg>\n",
              "  </button>\n",
              "\n",
              "<style>\n",
              "  .colab-df-quickchart {\n",
              "      --bg-color: #E8F0FE;\n",
              "      --fill-color: #1967D2;\n",
              "      --hover-bg-color: #E2EBFA;\n",
              "      --hover-fill-color: #174EA6;\n",
              "      --disabled-fill-color: #AAA;\n",
              "      --disabled-bg-color: #DDD;\n",
              "  }\n",
              "\n",
              "  [theme=dark] .colab-df-quickchart {\n",
              "      --bg-color: #3B4455;\n",
              "      --fill-color: #D2E3FC;\n",
              "      --hover-bg-color: #434B5C;\n",
              "      --hover-fill-color: #FFFFFF;\n",
              "      --disabled-bg-color: #3B4455;\n",
              "      --disabled-fill-color: #666;\n",
              "  }\n",
              "\n",
              "  .colab-df-quickchart {\n",
              "    background-color: var(--bg-color);\n",
              "    border: none;\n",
              "    border-radius: 50%;\n",
              "    cursor: pointer;\n",
              "    display: none;\n",
              "    fill: var(--fill-color);\n",
              "    height: 32px;\n",
              "    padding: 0;\n",
              "    width: 32px;\n",
              "  }\n",
              "\n",
              "  .colab-df-quickchart:hover {\n",
              "    background-color: var(--hover-bg-color);\n",
              "    box-shadow: 0 1px 2px rgba(60, 64, 67, 0.3), 0 1px 3px 1px rgba(60, 64, 67, 0.15);\n",
              "    fill: var(--button-hover-fill-color);\n",
              "  }\n",
              "\n",
              "  .colab-df-quickchart-complete:disabled,\n",
              "  .colab-df-quickchart-complete:disabled:hover {\n",
              "    background-color: var(--disabled-bg-color);\n",
              "    fill: var(--disabled-fill-color);\n",
              "    box-shadow: none;\n",
              "  }\n",
              "\n",
              "  .colab-df-spinner {\n",
              "    border: 2px solid var(--fill-color);\n",
              "    border-color: transparent;\n",
              "    border-bottom-color: var(--fill-color);\n",
              "    animation:\n",
              "      spin 1s steps(1) infinite;\n",
              "  }\n",
              "\n",
              "  @keyframes spin {\n",
              "    0% {\n",
              "      border-color: transparent;\n",
              "      border-bottom-color: var(--fill-color);\n",
              "      border-left-color: var(--fill-color);\n",
              "    }\n",
              "    20% {\n",
              "      border-color: transparent;\n",
              "      border-left-color: var(--fill-color);\n",
              "      border-top-color: var(--fill-color);\n",
              "    }\n",
              "    30% {\n",
              "      border-color: transparent;\n",
              "      border-left-color: var(--fill-color);\n",
              "      border-top-color: var(--fill-color);\n",
              "      border-right-color: var(--fill-color);\n",
              "    }\n",
              "    40% {\n",
              "      border-color: transparent;\n",
              "      border-right-color: var(--fill-color);\n",
              "      border-top-color: var(--fill-color);\n",
              "    }\n",
              "    60% {\n",
              "      border-color: transparent;\n",
              "      border-right-color: var(--fill-color);\n",
              "    }\n",
              "    80% {\n",
              "      border-color: transparent;\n",
              "      border-right-color: var(--fill-color);\n",
              "      border-bottom-color: var(--fill-color);\n",
              "    }\n",
              "    90% {\n",
              "      border-color: transparent;\n",
              "      border-bottom-color: var(--fill-color);\n",
              "    }\n",
              "  }\n",
              "</style>\n",
              "\n",
              "  <script>\n",
              "    async function quickchart(key) {\n",
              "      const quickchartButtonEl =\n",
              "        document.querySelector('#' + key + ' button');\n",
              "      quickchartButtonEl.disabled = true;  // To prevent multiple clicks.\n",
              "      quickchartButtonEl.classList.add('colab-df-spinner');\n",
              "      try {\n",
              "        const charts = await google.colab.kernel.invokeFunction(\n",
              "            'suggestCharts', [key], {});\n",
              "      } catch (error) {\n",
              "        console.error('Error during call to suggestCharts:', error);\n",
              "      }\n",
              "      quickchartButtonEl.classList.remove('colab-df-spinner');\n",
              "      quickchartButtonEl.classList.add('colab-df-quickchart-complete');\n",
              "    }\n",
              "    (() => {\n",
              "      let quickchartButtonEl =\n",
              "        document.querySelector('#df-4649f0e9-87d3-4741-bf3e-b46c4513ea15 button');\n",
              "      quickchartButtonEl.style.display =\n",
              "        google.colab.kernel.accessAllowed ? 'block' : 'none';\n",
              "    })();\n",
              "  </script>\n",
              "</div>\n",
              "    </div>\n",
              "  </div>\n"
            ],
            "application/vnd.google.colaboratory.intrinsic+json": {
              "type": "dataframe",
              "variable_name": "data"
            }
          },
          "metadata": {},
          "execution_count": 21
        }
      ]
    },
    {
      "cell_type": "code",
      "source": [
        "data.info()"
      ],
      "metadata": {
        "colab": {
          "base_uri": "https://localhost:8080/"
        },
        "id": "TiErdEK5f3XB",
        "outputId": "9b1ec319-6a28-424d-ad8e-3a2d79051029"
      },
      "execution_count": 22,
      "outputs": [
        {
          "output_type": "stream",
          "name": "stdout",
          "text": [
            "<class 'pandas.core.frame.DataFrame'>\n",
            "RangeIndex: 77596 entries, 0 to 77595\n",
            "Columns: 146 entries, rank to feature_143\n",
            "dtypes: float64(140), int64(6)\n",
            "memory usage: 86.4 MB\n"
          ]
        }
      ]
    },
    {
      "cell_type": "markdown",
      "source": [
        "###Работа с пропусками и дубликатами"
      ],
      "metadata": {
        "id": "qm_6kgI9if_7"
      }
    },
    {
      "cell_type": "code",
      "source": [
        "missing_values = data.isnull().sum()\n",
        "print(\"Пропущенные значения в каждом столбце:\\n\", missing_values)\n",
        "print(\"Всего пропусков:\", missing_values.sum())"
      ],
      "metadata": {
        "colab": {
          "base_uri": "https://localhost:8080/"
        },
        "id": "nlPgxzwLgWZI",
        "outputId": "bcbf5949-dbd3-41ef-8799-f61b31a7e55f"
      },
      "execution_count": 24,
      "outputs": [
        {
          "output_type": "stream",
          "name": "stdout",
          "text": [
            "Пропущенные значения в каждом столбце:\n",
            " rank           0\n",
            "query_id       0\n",
            "feature_0      0\n",
            "feature_1      0\n",
            "feature_2      0\n",
            "              ..\n",
            "feature_139    1\n",
            "feature_140    1\n",
            "feature_141    1\n",
            "feature_142    1\n",
            "feature_143    1\n",
            "Length: 146, dtype: int64\n",
            "Всего пропусков: 16\n"
          ]
        }
      ]
    },
    {
      "cell_type": "code",
      "source": [
        "data = data.dropna()"
      ],
      "metadata": {
        "id": "vgvLKuIei3ep"
      },
      "execution_count": 25,
      "outputs": []
    },
    {
      "cell_type": "code",
      "source": [
        "data.isnull().sum().sum()"
      ],
      "metadata": {
        "colab": {
          "base_uri": "https://localhost:8080/"
        },
        "id": "ai1OK1p1jThg",
        "outputId": "c5ab2afb-8012-4b5a-c488-06a1e4bc7782"
      },
      "execution_count": 28,
      "outputs": [
        {
          "output_type": "execute_result",
          "data": {
            "text/plain": [
              "0"
            ]
          },
          "metadata": {},
          "execution_count": 28
        }
      ]
    },
    {
      "cell_type": "code",
      "source": [
        "duplicates = data.duplicated().sum()\n",
        "print(\"Количество дубликатов в датасете:\", duplicates)"
      ],
      "metadata": {
        "colab": {
          "base_uri": "https://localhost:8080/"
        },
        "id": "XxmZ_rUrjCrI",
        "outputId": "4d1edde2-6b26-4bf6-a231-f6aedfea5eaf"
      },
      "execution_count": 26,
      "outputs": [
        {
          "output_type": "stream",
          "name": "stdout",
          "text": [
            "Количество дубликатов в датасете: 0\n"
          ]
        }
      ]
    },
    {
      "cell_type": "markdown",
      "source": [
        "##Обучение - LightGBM"
      ],
      "metadata": {
        "id": "ZvzrI4cFm5LR"
      }
    },
    {
      "cell_type": "markdown",
      "source": [
        "Буду использовать LightGBM с функцией потерь \"lambdarank\", которая специально предназначена для задач ранжирования - так как мне он просто нравится и быстро работает\n",
        "\n",
        "\n"
      ],
      "metadata": {
        "id": "HKYZfKDepz3b"
      }
    },
    {
      "cell_type": "code",
      "source": [
        "import lightgbm as lgb\n",
        "from sklearn.model_selection import KFold\n",
        "from sklearn.metrics import ndcg_score\n",
        "from sklearn.metrics import average_precision_score, precision_score, recall_score"
      ],
      "metadata": {
        "id": "t0__2Tm_jmyC"
      },
      "execution_count": 37,
      "outputs": []
    },
    {
      "cell_type": "code",
      "source": [
        "pip install --upgrade lightgbm\n"
      ],
      "metadata": {
        "colab": {
          "base_uri": "https://localhost:8080/"
        },
        "id": "M4qpvDURvGoW",
        "outputId": "ce206db3-9d5c-43f6-b356-2532e5d08bfe"
      },
      "execution_count": 40,
      "outputs": [
        {
          "output_type": "stream",
          "name": "stdout",
          "text": [
            "Requirement already satisfied: lightgbm in /usr/local/lib/python3.10/dist-packages (4.1.0)\n",
            "Collecting lightgbm\n",
            "  Downloading lightgbm-4.3.0-py3-none-manylinux_2_28_x86_64.whl (3.1 MB)\n",
            "\u001b[2K     \u001b[90m━━━━━━━━━━━━━━━━━━━━━━━━━━━━━━━━━━━━━━━━\u001b[0m \u001b[32m3.1/3.1 MB\u001b[0m \u001b[31m11.6 MB/s\u001b[0m eta \u001b[36m0:00:00\u001b[0m\n",
            "\u001b[?25hRequirement already satisfied: numpy in /usr/local/lib/python3.10/dist-packages (from lightgbm) (1.25.2)\n",
            "Requirement already satisfied: scipy in /usr/local/lib/python3.10/dist-packages (from lightgbm) (1.11.4)\n",
            "Installing collected packages: lightgbm\n",
            "  Attempting uninstall: lightgbm\n",
            "    Found existing installation: lightgbm 4.1.0\n",
            "    Uninstalling lightgbm-4.1.0:\n",
            "      Successfully uninstalled lightgbm-4.1.0\n",
            "Successfully installed lightgbm-4.3.0\n"
          ]
        }
      ]
    },
    {
      "cell_type": "code",
      "source": [
        "features = [f for f in data.columns if f.startswith('feature')]\n",
        "X = data[features]\n",
        "y = data['rank']\n",
        "query_id = data['query_id']"
      ],
      "metadata": {
        "id": "Zz2UY2aGnaw4"
      },
      "execution_count": 34,
      "outputs": []
    },
    {
      "cell_type": "markdown",
      "source": [
        "Добавим функцию, которая будет считать количество элементов в каждой группе (то есть для каждого уникального значения query_id). LightGBM требует указания размеров групп в датасете при обучении модели ранжирования, чтобы знать, какие строчки данных относятся к одной и той же поисковой сессии (query_id). Так, это позволяет корректно оптимизировать функцию потерь, учитывая структуру групп в данных\n",
        "\n",
        "Грубо говоря, если у есть датасет, в котором одна и та же query_id повторяется несколько раз (например, для разных документов в рамках одного поискового запроса), то функция group_counts поможет сформировать массив, содержащий количество элементов в каждой из этих групп по query_id"
      ],
      "metadata": {
        "id": "DGdpFMLgr6f7"
      }
    },
    {
      "cell_type": "code",
      "source": [
        "def group_counts(query_ids):\n",
        "    return query_ids.value_counts().sort_index().values"
      ],
      "metadata": {
        "id": "0y8yNJs7rfoR"
      },
      "execution_count": 36,
      "outputs": []
    },
    {
      "cell_type": "markdown",
      "source": [
        "Модель буду обучать с помощью кросс-валидации, так как позволяет лучше оценить обобщающую способность модели, так как модель тестируется на разных подмножествах данных"
      ],
      "metadata": {
        "id": "gkldZca8q_60"
      }
    },
    {
      "cell_type": "code",
      "source": [
        "kf = KFold(n_splits=5, shuffle=True, random_state=42)\n",
        "\n",
        "ndcg_scores = []\n",
        "\n",
        "for train_index, test_index in kf.split(X):\n",
        "    X_train, X_test = X.iloc[train_index], X.iloc[test_index]\n",
        "    y_train, y_test = y.iloc[train_index], y.iloc[test_index]\n",
        "    train_query_id, test_query_id = query_id.iloc[train_index], query_id.iloc[test_index]\n",
        "\n",
        "    train_group = group_counts(train_query_id)\n",
        "    valid_group = group_counts(test_query_id)\n",
        "\n",
        "    train_data = lgb.Dataset(X_train, label=y_train, group=train_group)\n",
        "    validation_data = lgb.Dataset(X_test, label=y_test, group=valid_group)\n",
        "\n",
        "    params = {\n",
        "        'objective': 'lambdarank',\n",
        "        'metric': 'ndcg',\n",
        "        'ndcg_eval_at': [5],\n",
        "        'boosting_type': 'gbdt',\n",
        "        'learning_rate': 0.1,\n",
        "        'num_leaves': 31,\n",
        "        'min_data_in_leaf': 20,\n",
        "        'num_iterations': 100,\n",
        "        'verbose': -1\n",
        "    }\n",
        "\n",
        "    model = lgb.train(\n",
        "        params,\n",
        "        train_data,\n",
        "        valid_sets=[validation_data]\n",
        "    )\n",
        "\n",
        "    y_pred = model.predict(X_test, num_iteration=model.best_iteration)\n",
        "\n",
        "    ndcg_score_val = ndcg_score([y_test], [y_pred], k=5)\n",
        "    ndcg_scores.append(ndcg_score_val)"
      ],
      "metadata": {
        "colab": {
          "base_uri": "https://localhost:8080/"
        },
        "id": "olQBM3aKq8ki",
        "outputId": "66cf0159-6caa-44c7-b6ee-0d4b4b1bef81"
      },
      "execution_count": 42,
      "outputs": [
        {
          "output_type": "stream",
          "name": "stderr",
          "text": [
            "/usr/local/lib/python3.10/dist-packages/lightgbm/engine.py:172: UserWarning: Found `num_iterations` in params. Will use it instead of argument\n",
            "  _log_warning(f\"Found `{alias}` in params. Will use it instead of argument\")\n",
            "/usr/local/lib/python3.10/dist-packages/lightgbm/engine.py:172: UserWarning: Found `num_iterations` in params. Will use it instead of argument\n",
            "  _log_warning(f\"Found `{alias}` in params. Will use it instead of argument\")\n",
            "/usr/local/lib/python3.10/dist-packages/lightgbm/engine.py:172: UserWarning: Found `num_iterations` in params. Will use it instead of argument\n",
            "  _log_warning(f\"Found `{alias}` in params. Will use it instead of argument\")\n",
            "/usr/local/lib/python3.10/dist-packages/lightgbm/engine.py:172: UserWarning: Found `num_iterations` in params. Will use it instead of argument\n",
            "  _log_warning(f\"Found `{alias}` in params. Will use it instead of argument\")\n",
            "/usr/local/lib/python3.10/dist-packages/lightgbm/engine.py:172: UserWarning: Found `num_iterations` in params. Will use it instead of argument\n",
            "  _log_warning(f\"Found `{alias}` in params. Will use it instead of argument\")\n"
          ]
        }
      ]
    },
    {
      "cell_type": "code",
      "source": [
        "mean_ndcg_score = np.mean(ndcg_scores)\n",
        "print(f'Mean NDCG@5: {mean_ndcg_score}')"
      ],
      "metadata": {
        "colab": {
          "base_uri": "https://localhost:8080/"
        },
        "id": "SkiDFuaAtavY",
        "outputId": "c470c15f-3b8c-484f-8ed8-fe008899b104"
      },
      "execution_count": 43,
      "outputs": [
        {
          "output_type": "stream",
          "name": "stdout",
          "text": [
            "Mean NDCG@5: 0.8376226558652838\n"
          ]
        }
      ]
    },
    {
      "cell_type": "markdown",
      "source": [
        "результат вполне неплохой, учитывая, что это среднее по всем фолдам кросс-валидации. Но посмотрим на каждый фолд по отдельности, чтобы убедиться в относительной стабильности"
      ],
      "metadata": {
        "id": "4pC-PojBwaaJ"
      }
    },
    {
      "cell_type": "code",
      "source": [
        "# NDCG@5 для каждого фолда\n",
        "for i, score in enumerate(ndcg_scores):\n",
        "    print(f'NDCG@5 for fold {i+1}: {score}')\n",
        "\n",
        "plt.figure(figsize=(10, 6))\n",
        "plt.bar(range(1, len(ndcg_scores) + 1), ndcg_scores)\n",
        "plt.xlabel('Fold Number')\n",
        "plt.ylabel('NDCG@5 Score')\n",
        "plt.title('NDCG@5 Scores for Each Fold')\n",
        "plt.xticks(range(1, len(ndcg_scores) + 1))\n",
        "plt.show()"
      ],
      "metadata": {
        "colab": {
          "base_uri": "https://localhost:8080/",
          "height": 645
        },
        "id": "5iKt0fHQw20l",
        "outputId": "810449ca-bd0b-403c-c1fe-675195789d3b"
      },
      "execution_count": 46,
      "outputs": [
        {
          "output_type": "stream",
          "name": "stdout",
          "text": [
            "NDCG@5 for fold 1: 0.7648173586070209\n",
            "NDCG@5 for fold 2: 0.9671987306219144\n",
            "NDCG@5 for fold 3: 0.7997807481010406\n",
            "NDCG@5 for fold 4: 0.7946030594984799\n",
            "NDCG@5 for fold 5: 0.8617133824979639\n"
          ]
        },
        {
          "output_type": "display_data",
          "data": {
            "text/plain": [
              "<Figure size 1000x600 with 1 Axes>"
            ],
            "image/png": "[encoded data removed]"
          },
          "metadata": {}
        }
      ]
    },
    {
      "cell_type": "markdown",
      "source": [
        "Как видим, каких-то строгих отклонений нет - поэтому общий результат неплохой"
      ],
      "metadata": {
        "id": "birIWoYKxNX6"
      }
    },
    {
      "cell_type": "markdown",
      "source": [
        "##Обучение - XGBoosting"
      ],
      "metadata": {
        "id": "UTk1buY2xpzP"
      }
    },
    {
      "cell_type": "markdown",
      "source": [
        "На LGB получилось неплохо, но на всякий случай посмотрим еще на XGB, которая также поддерживает оптимизацию для задач ранжирования с использованием функции потерь rank:pairwise или rank:ndcg"
      ],
      "metadata": {
        "id": "0ms7RsEWxuCG"
      }
    },
    {
      "cell_type": "code",
      "source": [
        "import xgboost as xgb"
      ],
      "metadata": {
        "id": "FvZGZjdNx8_7"
      },
      "execution_count": 47,
      "outputs": []
    },
    {
      "cell_type": "code",
      "source": [
        "xgb_params = {\n",
        "    'objective': 'rank:pairwise',  # можно попробовать также 'rank:ndcg'\n",
        "    'eval_metric': 'ndcg',\n",
        "    'learning_rate': 0.1,\n",
        "    'max_depth': 6,\n",
        "    'seed': 42\n",
        "}\n",
        "\n",
        "ndcg_scores_xgb = []\n",
        "\n",
        "for train_index, test_index in kf.split(X):\n",
        "    X_train, X_test = X.iloc[train_index], X.iloc[test_index]\n",
        "    y_train, y_test = y.iloc[train_index], y.iloc[test_index]\n",
        "\n",
        "    dtrain = xgb.DMatrix(X_train, label=y_train)\n",
        "    dvalid = xgb.DMatrix(X_test, label=y_test)\n",
        "\n",
        "    watchlist = [(dtrain, 'train'), (dvalid, 'valid')]\n",
        "\n",
        "    model_xgb = xgb.train(\n",
        "        xgb_params,\n",
        "        dtrain,\n",
        "        num_boost_round=100,\n",
        "        evals=watchlist,\n",
        "        early_stopping_rounds=10\n",
        "    )\n",
        "\n",
        "\n",
        "    y_pred_xgb = model_xgb.predict(dvalid, iteration_range=(0, model_xgb.best_iteration + 1))\n",
        "\n",
        "    ndcg_score_val_xgb = ndcg_score([y_test], [y_pred_xgb], k=5)\n",
        "    ndcg_scores_xgb.append(ndcg_score_val_xgb)"
      ],
      "metadata": {
        "colab": {
          "base_uri": "https://localhost:8080/"
        },
        "id": "A13z0xacx9aO",
        "outputId": "44faf599-e8b2-45fc-84da-dc34e1720427"
      },
      "execution_count": 50,
      "outputs": [
        {
          "output_type": "stream",
          "name": "stdout",
          "text": [
            "[0]\ttrain-ndcg:0.15170\tvalid-ndcg:0.05857\n",
            "[1]\ttrain-ndcg:0.20605\tvalid-ndcg:0.07012\n",
            "[2]\ttrain-ndcg:0.22281\tvalid-ndcg:0.04562\n",
            "[3]\ttrain-ndcg:0.20125\tvalid-ndcg:0.03862\n",
            "[4]\ttrain-ndcg:0.20445\tvalid-ndcg:0.04147\n",
            "[5]\ttrain-ndcg:0.20273\tvalid-ndcg:0.04074\n",
            "[6]\ttrain-ndcg:0.20837\tvalid-ndcg:0.04301\n",
            "[7]\ttrain-ndcg:0.21010\tvalid-ndcg:0.05035\n",
            "[8]\ttrain-ndcg:0.20921\tvalid-ndcg:0.04894\n",
            "[9]\ttrain-ndcg:0.20432\tvalid-ndcg:0.05723\n",
            "[10]\ttrain-ndcg:0.20462\tvalid-ndcg:0.03991\n",
            "[11]\ttrain-ndcg:0.20372\tvalid-ndcg:0.04474\n",
            "[0]\ttrain-ndcg:0.12879\tvalid-ndcg:0.06938\n",
            "[1]\ttrain-ndcg:0.18048\tvalid-ndcg:0.13769\n",
            "[2]\ttrain-ndcg:0.20299\tvalid-ndcg:0.12167\n",
            "[3]\ttrain-ndcg:0.21418\tvalid-ndcg:0.11652\n",
            "[4]\ttrain-ndcg:0.25181\tvalid-ndcg:0.09282\n",
            "[5]\ttrain-ndcg:0.25262\tvalid-ndcg:0.10075\n",
            "[6]\ttrain-ndcg:0.28594\tvalid-ndcg:0.09703\n",
            "[7]\ttrain-ndcg:0.30384\tvalid-ndcg:0.09615\n",
            "[8]\ttrain-ndcg:0.35147\tvalid-ndcg:0.11002\n",
            "[9]\ttrain-ndcg:0.34322\tvalid-ndcg:0.09658\n",
            "[10]\ttrain-ndcg:0.34108\tvalid-ndcg:0.09323\n",
            "[0]\ttrain-ndcg:0.21182\tvalid-ndcg:0.08392\n",
            "[1]\ttrain-ndcg:0.23209\tvalid-ndcg:0.08469\n",
            "[2]\ttrain-ndcg:0.24273\tvalid-ndcg:0.07372\n",
            "[3]\ttrain-ndcg:0.25417\tvalid-ndcg:0.07483\n",
            "[4]\ttrain-ndcg:0.26012\tvalid-ndcg:0.07623\n",
            "[5]\ttrain-ndcg:0.26299\tvalid-ndcg:0.07631\n",
            "[6]\ttrain-ndcg:0.26934\tvalid-ndcg:0.07746\n",
            "[7]\ttrain-ndcg:0.28477\tvalid-ndcg:0.07686\n",
            "[8]\ttrain-ndcg:0.30755\tvalid-ndcg:0.08245\n",
            "[9]\ttrain-ndcg:0.30859\tvalid-ndcg:0.08627\n",
            "[10]\ttrain-ndcg:0.32028\tvalid-ndcg:0.08326\n",
            "[11]\ttrain-ndcg:0.32639\tvalid-ndcg:0.08483\n",
            "[12]\ttrain-ndcg:0.35525\tvalid-ndcg:0.07543\n",
            "[13]\ttrain-ndcg:0.35222\tvalid-ndcg:0.08172\n",
            "[14]\ttrain-ndcg:0.35084\tvalid-ndcg:0.07619\n",
            "[15]\ttrain-ndcg:0.34987\tvalid-ndcg:0.08146\n",
            "[16]\ttrain-ndcg:0.35001\tvalid-ndcg:0.07934\n",
            "[17]\ttrain-ndcg:0.35233\tvalid-ndcg:0.07075\n",
            "[18]\ttrain-ndcg:0.35212\tvalid-ndcg:0.07007\n",
            "[19]\ttrain-ndcg:0.34695\tvalid-ndcg:0.07160\n",
            "[0]\ttrain-ndcg:0.12845\tvalid-ndcg:0.19685\n",
            "[1]\ttrain-ndcg:0.14466\tvalid-ndcg:0.09033\n",
            "[2]\ttrain-ndcg:0.18849\tvalid-ndcg:0.08757\n",
            "[3]\ttrain-ndcg:0.19149\tvalid-ndcg:0.10050\n",
            "[4]\ttrain-ndcg:0.20576\tvalid-ndcg:0.10462\n",
            "[5]\ttrain-ndcg:0.21316\tvalid-ndcg:0.10246\n",
            "[6]\ttrain-ndcg:0.20310\tvalid-ndcg:0.10265\n",
            "[7]\ttrain-ndcg:0.20901\tvalid-ndcg:0.10690\n",
            "[8]\ttrain-ndcg:0.19818\tvalid-ndcg:0.10452\n",
            "[9]\ttrain-ndcg:0.22133\tvalid-ndcg:0.10178\n",
            "[10]\ttrain-ndcg:0.22879\tvalid-ndcg:0.10108\n",
            "[0]\ttrain-ndcg:0.18288\tvalid-ndcg:0.07830\n",
            "[1]\ttrain-ndcg:0.23706\tvalid-ndcg:0.13957\n",
            "[2]\ttrain-ndcg:0.23706\tvalid-ndcg:0.13398\n",
            "[3]\ttrain-ndcg:0.23706\tvalid-ndcg:0.13398\n",
            "[4]\ttrain-ndcg:0.23706\tvalid-ndcg:0.13398\n",
            "[5]\ttrain-ndcg:0.26117\tvalid-ndcg:0.13409\n",
            "[6]\ttrain-ndcg:0.26325\tvalid-ndcg:0.13984\n",
            "[7]\ttrain-ndcg:0.25995\tvalid-ndcg:0.14076\n",
            "[8]\ttrain-ndcg:0.25752\tvalid-ndcg:0.13663\n",
            "[9]\ttrain-ndcg:0.25851\tvalid-ndcg:0.13615\n",
            "[10]\ttrain-ndcg:0.26280\tvalid-ndcg:0.14464\n",
            "[11]\ttrain-ndcg:0.26242\tvalid-ndcg:0.14525\n",
            "[12]\ttrain-ndcg:0.26945\tvalid-ndcg:0.13615\n",
            "[13]\ttrain-ndcg:0.27151\tvalid-ndcg:0.15282\n",
            "[14]\ttrain-ndcg:0.27158\tvalid-ndcg:0.15224\n",
            "[15]\ttrain-ndcg:0.27328\tvalid-ndcg:0.14965\n",
            "[16]\ttrain-ndcg:0.27450\tvalid-ndcg:0.14892\n",
            "[17]\ttrain-ndcg:0.27481\tvalid-ndcg:0.15049\n",
            "[18]\ttrain-ndcg:0.27622\tvalid-ndcg:0.14873\n",
            "[19]\ttrain-ndcg:0.27768\tvalid-ndcg:0.15031\n",
            "[20]\ttrain-ndcg:0.28007\tvalid-ndcg:0.15039\n",
            "[21]\ttrain-ndcg:0.28154\tvalid-ndcg:0.14628\n",
            "[22]\ttrain-ndcg:0.28566\tvalid-ndcg:0.14979\n",
            "[23]\ttrain-ndcg:0.32995\tvalid-ndcg:0.15009\n",
            "Mean NDCG@5 for XGBoost: 0.2831334431709835\n"
          ]
        }
      ]
    },
    {
      "cell_type": "code",
      "source": [
        "mean_ndcg_score_xgb = np.mean(ndcg_scores_xgb)\n",
        "print(f'Mean NDCG@5 for XGBoost: {mean_ndcg_score_xgb}')"
      ],
      "metadata": {
        "colab": {
          "base_uri": "https://localhost:8080/"
        },
        "id": "WZWU2DaUy6mv",
        "outputId": "645a0537-e1f7-4c0e-fad7-f1c9883ce6aa"
      },
      "execution_count": 51,
      "outputs": [
        {
          "output_type": "stream",
          "name": "stdout",
          "text": [
            "Mean NDCG@5 for XGBoost: 0.2831334431709835\n"
          ]
        }
      ]
    },
    {
      "cell_type": "markdown",
      "source": [
        "Как мы видим для XGB значение получилось значительно хуже, чем для LGB. Возможно недостаточно хорошо подобраны гиперпараметры, недостаточно иттераций или модель в целом не подходит и хуже справляется\n",
        "\n",
        "В целом, результаты LightGBM говорят о том, что эта модель лучше подходит для этой задачи ранжирования с учетом текущих данных и настроек"
      ],
      "metadata": {
        "id": "GfxVkheHzZFB"
      }
    }
  ]
}